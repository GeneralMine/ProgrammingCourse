{
 "cells": [
  {
   "cell_type": "code",
   "execution_count": 1,
   "metadata": {},
   "outputs": [],
   "source": [
    "####################################### Day 4 ###########################################\n",
    "\n",
    "#Besprechung Hausaufgaben"
   ]
  },
  {
   "cell_type": "code",
   "execution_count": 2,
   "metadata": {},
   "outputs": [
    {
     "name": "stdout",
     "output_type": "stream",
     "text": [
      "2\n",
      "8\n"
     ]
    }
   ],
   "source": [
    "#Rekursion\n",
    "\n",
    "#Man kann eine Funktion auch in dieser Funktion aufrufen --> Rekursion\n",
    "\n",
    "def fib(n):\n",
    "\tif n == 1 or n == 2:#Rekursionsanker\n",
    "\t\treturn 1\n",
    "\telse:#Rekursionsschritt\n",
    "\t\treturn fib(n-1) + fib(n-2)\n",
    "\n",
    "#wenn der Rekursionsanker fehlt gibt es eine Endlosschleife\n",
    "print(fib(3))\n",
    "print(fib(6))"
   ]
  },
  {
   "cell_type": "code",
   "execution_count": 3,
   "metadata": {},
   "outputs": [
    {
     "name": "stdout",
     "output_type": "stream",
     "text": [
      "24\n"
     ]
    }
   ],
   "source": [
    "#Aufgabe\n",
    "#Programmiere die Fakultätsfunktion rekursiv\n",
    "#Diese ist wie folgt definiert: fak(n) = n*(n-1)*(n-2)*...*1\n",
    "\n",
    "#Lösung\n",
    "def fak(n):\n",
    "\tif n == 1:\n",
    "\t\treturn 1\n",
    "\telse:\n",
    "\t\treturn n * fak(n-1)\n",
    "\n",
    "print(fak(4))"
   ]
  },
  {
   "cell_type": "code",
   "execution_count": 5,
   "metadata": {},
   "outputs": [],
   "source": [
    "#Man kann eigentlich alles sowohl iterativ als auch rekursiv berechnen. Manchmal ist eines davon aber leichter.\n",
    "\n",
    "def reverse2(string):\n",
    "\tif len(string) == 0:\n",
    "\t\treturn \"\"\n",
    "\telse:\n",
    "\t\treturn string[-1] + reverse2(string[:-1])"
   ]
  },
  {
   "cell_type": "code",
   "execution_count": 7,
   "metadata": {},
   "outputs": [
    {
     "name": "stdout",
     "output_type": "stream",
     "text": [
      "8\n",
      "10\n"
     ]
    }
   ],
   "source": [
    "#Aufgabe\n",
    "#Programmiere die Berechnung des Binominalkoeffizienten rekursiv\n",
    "#Für den Binominalkoeffizienten gilt:\n",
    "#binom(n,0) = 1, binom(n,n) = 1\n",
    "#binom(n,k) = binom(n-1,k-1) + binom(n-1, k)\n",
    "\n",
    "def binom(n,k):\n",
    "\tif k == 0 or k == n:\n",
    "\t\treturn 1\n",
    "\telse:\n",
    "\t\treturn binom(n-1,k-1) + binom(n-1,k)\n",
    "\n",
    "print(binom(8,1))\n",
    "print(binom(5,3))"
   ]
  },
  {
   "cell_type": "code",
   "execution_count": 10,
   "metadata": {},
   "outputs": [
    {
     "name": "stdout",
     "output_type": "stream",
     "text": [
      "832040\n",
      "354224848179261915075\n"
     ]
    }
   ],
   "source": [
    "#Effizienz und Laufzeit\n",
    "\n",
    "#häufig ist es sehr wichtig, dass Algorithmen schnell sind\n",
    "\n",
    "#Die Funktionen fib() und binom() brauchen sehr viel Zeit, da häufig sehr viele Teile mehrfach berechnet werden.\n",
    "#(Bspw. wird fib(2) schon 5 mal berechnet, wenn man fib(6) berechnet)\n",
    "\n",
    "#Zeigen, dass fib(30) oder fib(35) schon sehr lange braucht.\n",
    "\n",
    "#Deswegen ist es hier sinnvoll, Zwischenergebnisse zu speichern, oder den Algorithmsu anders zu programmieren,\n",
    "#sodass nur einmal eine Zahl berechnet werden muss.\n",
    "\n",
    "#Das geht so (mit Memory Array):\n",
    "\n",
    "mem = [0,1,1]#Es gibt keine 0te Fibonaccizahl und die ersten beiden sind 1\n",
    "def fib2(n):\n",
    "\tif len(mem) > n:\n",
    "\t\treturn mem[n]\n",
    "\telse:\n",
    "\t\tmem.append(fib2(n-1) + fib2(n-2))\n",
    "\t\treturn mem[n]\n",
    "    \n",
    "print(fib2(30))\n",
    "print(fib2(100))"
   ]
  },
  {
   "cell_type": "code",
   "execution_count": 11,
   "metadata": {},
   "outputs": [
    {
     "name": "stdout",
     "output_type": "stream",
     "text": [
      "832040\n",
      "354224848179261915075\n"
     ]
    }
   ],
   "source": [
    "#oder so:\n",
    "\n",
    "def fib3(n):\n",
    "\tprev_fib = 1\n",
    "\tprev2_fib = 1\n",
    "\tfor i in range(2,n):\n",
    "\t\tnext_fib = prev_fib + prev2_fib\n",
    "\t\tprev2_fib = prev_fib\n",
    "\t\tprev_fib = next_fib\n",
    "\treturn prev_fib\n",
    "\n",
    "print(fib2(30))\n",
    "print(fib2(100))"
   ]
  },
  {
   "cell_type": "code",
   "execution_count": 12,
   "metadata": {},
   "outputs": [],
   "source": [
    "#Dictionaries\n",
    "\n",
    "prices = {\"Apple\":\"1€\", \"Banana\":\"2€\",\"Strawberries\":\"3€\"} #Key: value Paare\n",
    "prices2 = {\"Apple\":1, \"Banana\":2,\"Strawberries\":3, \"Potato\":0.5}\n",
    "buying = {\"Apple\":3,\"Banana\":5,\"Potato\":10}"
   ]
  },
  {
   "cell_type": "code",
   "execution_count": 13,
   "metadata": {},
   "outputs": [
    {
     "name": "stdout",
     "output_type": "stream",
     "text": [
      "1€\n",
      "0.5\n"
     ]
    }
   ],
   "source": [
    "print(prices[\"Apple\"])#ähnlich wie Listen, nur mit keys anstatt Indexe\n",
    "print(prices2[\"Potato\"])"
   ]
  },
  {
   "cell_type": "code",
   "execution_count": 18,
   "metadata": {},
   "outputs": [
    {
     "name": "stdout",
     "output_type": "stream",
     "text": [
      "dict_keys(['Apple', 'Banana', 'Potato'])\n",
      "dict_values([3, 5, 10])\n",
      "dict_items([('Apple', 3), ('Banana', 5), ('Potato', 10)])\n",
      "{'Apple': 3, 'Banana': 5, 'Potato': 10}\n"
     ]
    }
   ],
   "source": [
    "print(buying.keys())\n",
    "print(buying.values())\n",
    "print(buying.items())\n",
    "print(buying)"
   ]
  },
  {
   "cell_type": "code",
   "execution_count": 15,
   "metadata": {},
   "outputs": [
    {
     "name": "stdout",
     "output_type": "stream",
     "text": [
      "1.5\n"
     ]
    }
   ],
   "source": [
    "prices2[\"Carrot\"] = 1.5\n",
    "print(prices2[\"Carrot\"])"
   ]
  },
  {
   "cell_type": "code",
   "execution_count": 17,
   "metadata": {},
   "outputs": [
    {
     "name": "stdout",
     "output_type": "stream",
     "text": [
      "The product  Apple  costs  1 €.\n",
      "The product  Banana  costs  2 €.\n",
      "The product  Strawberries  costs  3 €.\n",
      "The product  Potato  costs  0.5 €.\n",
      "The product  Carrot  costs  1.5 €.\n"
     ]
    }
   ],
   "source": [
    "for key, value in prices2.items():\n",
    "\tprint(\"The product \", key, \" costs \", value, \"€.\")"
   ]
  },
  {
   "cell_type": "code",
   "execution_count": 19,
   "metadata": {},
   "outputs": [
    {
     "name": "stdout",
     "output_type": "stream",
     "text": [
      "18.0\n"
     ]
    }
   ],
   "source": [
    "#Aufgabe\n",
    "#berechne den Preis (durch ein Programm), den man Zahlen muss, wenn man die Produkte aus buying mit der jeweiligen Anzahl und den Preisen aus prices2 kauft.\n",
    "\n",
    "#Lösung\n",
    "cost = 0\n",
    "for product, amount in buying.items():\n",
    "\tcost += prices2[product] * amount\n",
    "print(cost)"
   ]
  },
  {
   "cell_type": "code",
   "execution_count": 20,
   "metadata": {},
   "outputs": [],
   "source": [
    "#Sortieren, Binäre Suche und Hashing\n",
    "\n",
    "#Problem (nicht zum selbst bearbeiten): Du hast zwei Listen gegeben, und möchtest die Elemente finden, die in beiden Listen vorkommen.\n",
    "\n",
    "list1 = [76,23,6,2,11,42,15,123,8,21,55]\n",
    "list2 = [87,2,34,85,21,33,55,6,12,76,31,876,35,29]\n"
   ]
  },
  {
   "cell_type": "code",
   "execution_count": 21,
   "metadata": {},
   "outputs": [
    {
     "name": "stdout",
     "output_type": "stream",
     "text": [
      "[76, 6, 2, 21, 55]\n"
     ]
    }
   ],
   "source": [
    "#langsame Lösung\n",
    "shared = []\n",
    "for i in list1:\n",
    "\tfor j in list2:\n",
    "\t\tif i == j:\n",
    "\t\t\tshared.append(i)\n",
    "print(shared)"
   ]
  },
  {
   "cell_type": "code",
   "execution_count": 25,
   "metadata": {},
   "outputs": [
    {
     "name": "stdout",
     "output_type": "stream",
     "text": [
      "[2, 6, 12, 21, 29, 31, 33, 34, 35, 55, 76, 85, 87, 876]\n",
      "[76, 6, 2, 21, 55]\n"
     ]
    }
   ],
   "source": [
    "#schnellere Lösung:\n",
    "#Sortieren und Binäre suche\n",
    "#erklären wieso das Sinnvoll ist --> vergleich mit dem Ratespiel, wo man herausfinden muss, was die gesuchte Zahl war\n",
    "\n",
    "shared = []\n",
    "list2.sort()#sortiert die Liste\n",
    "print(list2)\n",
    "\n",
    "#binäre Suche\n",
    "for item in list1:\n",
    "\t#left und right geben den Bereich der Indexe an, wo die Zahl item vorkommen könnte\n",
    "\tleft = 0\n",
    "\tright = len(list2)-1\n",
    "\twhile left <= right:\n",
    "\t\tmid = (left + right)//2\n",
    "\t\tif list2[mid] == item:\n",
    "\t\t\tshared.append(item)\n",
    "\t\t\tbreak #bricht aus der inneren Schleife aus (wir müssen dann nicht mehr weiter suchen)\n",
    "\t\telif list2[mid] < item:\n",
    "\t\t\tleft = mid+1\n",
    "\t\telse:\n",
    "\t\t\tright = mid-1\n",
    "print(shared)\n",
    "#bei der Implementierung von binären Suchen entstehen häufig Fehler"
   ]
  },
  {
   "cell_type": "code",
   "execution_count": 26,
   "metadata": {},
   "outputs": [
    {
     "name": "stdout",
     "output_type": "stream",
     "text": [
      "[2, 6, 21, 55, 76]\n"
     ]
    }
   ],
   "source": [
    "#noch etwas schnellere Lösung\n",
    "\n",
    "#wir benutzen eine neue Datenstruktur: ein Set\n",
    "#Ein Set funktioniert über Hashing. #Hashing erklären. (by the way, Dictionaries funktionieren auch mit Hashing)\n",
    "#Dadurch können wir sehr schnell feststellen, ob ein bestimmtes Element in dem Set drin ist oder nicht.\n",
    "\n",
    "s = set()\n",
    "shared = []\n",
    "for item in list1:\n",
    "\ts.add(item)\n",
    "for item in list2:\n",
    "\tif item in s:\n",
    "\t\tshared.append(item)\n",
    "print(shared)"
   ]
  },
  {
   "cell_type": "code",
   "execution_count": 28,
   "metadata": {},
   "outputs": [],
   "source": [
    "#Man kann sets übrigens auch so erstellen:\n",
    "\n",
    "s = {\"Apple\", 2, -0.5, 42, 73}#wie Dictionaries nur ohne values"
   ]
  },
  {
   "cell_type": "code",
   "execution_count": 29,
   "metadata": {},
   "outputs": [],
   "source": [
    "#Hausaufgabe 1\n",
    "#programmiere einen Algorithmus, der das Rästelspiel von gestern (oder vorgestern) in möglichst wenig Schritten löst.\n",
    "#Dein Algorithmus soll dabei immer die Feedback Funktion benutzen\n",
    "\n",
    "import random\n",
    "r = random.randint(1,100)\n",
    "\n",
    "def feedback(guess):\n",
    "\tif r == guess:\n",
    "\t\treturn \"=\"\n",
    "\telif r < guess:\n",
    "\t\treturn \"<\"\n",
    "\telse:\n",
    "\t\treturn \">\"\n",
    "\n",
    "\n",
    "#Lösung\n",
    "left = 1\n",
    "right = 100\n",
    "while left <= right:\n",
    "\tmid = (left + right)/2\n",
    "\tf = feedback(mid)\n",
    "\tif f == \"=\":\n",
    "\t\tprint(\"Die Zahl ist \", mid)\n",
    "\t\tbreak #bricht aus der inneren Schleife aus (wir müssen dann nicht mehr weiter suchen)\n",
    "\telif f == \">\":\n",
    "\t\tleft = mid+1\n",
    "\telse:\n",
    "\t\tright = mid-1"
   ]
  },
  {
   "cell_type": "code",
   "execution_count": 30,
   "metadata": {},
   "outputs": [
    {
     "name": "stdout",
     "output_type": "stream",
     "text": [
      "[1, 2, 3, 4]\n",
      "[1, 2, 4, 3]\n",
      "[1, 3, 2, 4]\n",
      "[1, 3, 4, 2]\n",
      "[1, 4, 2, 3]\n",
      "[1, 4, 3, 2]\n",
      "[2, 1, 3, 4]\n",
      "[2, 1, 4, 3]\n",
      "[2, 3, 1, 4]\n",
      "[2, 3, 4, 1]\n",
      "[2, 4, 1, 3]\n",
      "[2, 4, 3, 1]\n",
      "[3, 1, 2, 4]\n",
      "[3, 1, 4, 2]\n",
      "[3, 2, 1, 4]\n",
      "[3, 2, 4, 1]\n",
      "[3, 4, 1, 2]\n",
      "[3, 4, 2, 1]\n",
      "[4, 1, 2, 3]\n",
      "[4, 1, 3, 2]\n",
      "[4, 2, 1, 3]\n",
      "[4, 2, 3, 1]\n",
      "[4, 3, 1, 2]\n",
      "[4, 3, 2, 1]\n"
     ]
    }
   ],
   "source": [
    "#Hausaufgabe 2 (schwierig)\n",
    "#Programmiere ein Programm, das eine Liste bekommt und nacheinander alle Permutationen dieser Liste ausschreibt.\n",
    "#Bsp: [1,2,3] --> [1,2,3],[1,3,2],[2,1,3],[2,3,1],[3,1,2],[3,2,1]\n",
    "#Tipp: Rekursion (mit einer Schleife)\n",
    "\n",
    "#Lösung\n",
    "\n",
    "current = []\n",
    "\n",
    "def perm(list1):\n",
    "\tif len(list1) == 1:\n",
    "\t\tcurrent.append(list1[0])\n",
    "\t\tprint(current)\n",
    "\t\tcurrent.pop()\n",
    "\telse:\n",
    "\t\tfor i in range(len(list1)):\n",
    "\t\t\trest = list1[:i] + list1[i+1:]\n",
    "\t\t\tcurrent.append(list1[i])\n",
    "\t\t\tperm(rest)\n",
    "\t\t\tcurrent.pop()\n",
    "\n",
    "perm([1,2,3,4])"
   ]
  },
  {
   "cell_type": "code",
   "execution_count": 33,
   "metadata": {},
   "outputs": [
    {
     "data": {
      "text/plain": [
       "38116532895986727945334202400"
      ]
     },
     "execution_count": 33,
     "metadata": {},
     "output_type": "execute_result"
    }
   ],
   "source": [
    "#Zusatz Hausaufgabe (freiwillig und relativ schwer)\n",
    "#Programmiere die binom() Funktion effizient (aber ohne Fakultät).\n",
    "\n",
    "#Lösung\n",
    "\n",
    "mem = {}\n",
    "def binom(n,k):\n",
    "\tif k == 0 or k == n:\n",
    "\t\treturn 1\n",
    "\telif (n,k) in mem:\n",
    "\t\treturn mem[(n,k)]\n",
    "\telse:\n",
    "\t\tmem[(n,k)] = binom(n-1,k-1) + binom(n-1,k)\n",
    "\t\treturn \tmem[(n,k)]\n",
    "\n",
    "binom(100,43)"
   ]
  },
  {
   "cell_type": "code",
   "execution_count": null,
   "metadata": {},
   "outputs": [],
   "source": []
  }
 ],
 "metadata": {
  "kernelspec": {
   "display_name": "Python 3",
   "language": "python",
   "name": "python3"
  },
  "language_info": {
   "codemirror_mode": {
    "name": "ipython",
    "version": 3
   },
   "file_extension": ".py",
   "mimetype": "text/x-python",
   "name": "python",
   "nbconvert_exporter": "python",
   "pygments_lexer": "ipython3",
   "version": "3.8.5"
  }
 },
 "nbformat": 4,
 "nbformat_minor": 4
}
